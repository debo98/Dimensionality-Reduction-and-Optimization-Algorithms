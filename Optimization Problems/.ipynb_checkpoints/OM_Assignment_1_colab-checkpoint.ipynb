{
 "cells": [
  {
   "cell_type": "markdown",
   "metadata": {
    "colab_type": "text",
    "editable": false,
    "id": "nvBtwXAOrEdV"
   },
   "source": [
    "# Assignment-1 Linear Programming\n",
    "  The objective of this assignment is to show the applications of linear programming in real life problems. You will be asked to solve problems from classical physics to puzzles. \n",
    "\n",
    "## Instructions \n",
    "  - For each question you need to write the formulation in markdown and solve the problem using `cvxpy`. \n",
    "  - Ensure that this notebook runs without errors when the cells are run in sequence.\n",
    "  - Plagarism will not be tolerated.\n",
    "  - Use only `python3` to run your code.\n",
    "  - If you are facing issues running the notebook on your local system. Use google collab to run the notebook online. To run the notebook online, go to [google collab](!https://colab.research.google.com/notebooks/intro.ipynb). Go to `File  -> Upload Notebook` and import the notebook file \n",
    "\n",
    "## Submission  \n",
    "- Rename the notebook to `<roll_number>.ipynb` and submit **ONLY** the notebook file on moodle.\n",
    "\n",
    "## Problems \n",
    "1. Sudoku \n",
    "2. Best Polyhedron \n",
    "3. Largest Ball\n",
    "4. Illumination Problem\n",
    "5. Jigsaw Puzzle "
   ]
  },
  {
   "cell_type": "code",
   "execution_count": 0,
   "metadata": {
    "colab": {
     "base_uri": "https://localhost:8080/",
     "height": 833
    },
    "colab_type": "code",
    "id": "GpsAXB2ht0DN",
    "outputId": "47a9ca85-81b9-4f9a-95b6-70bba4bae70e"
   },
   "outputs": [
    {
     "name": "stdout",
     "output_type": "stream",
     "text": [
      "Collecting numpy==1.18.1\n",
      "\u001b[?25l  Downloading https://files.pythonhosted.org/packages/62/20/4d43e141b5bc426ba38274933ef8e76e85c7adea2c321ecf9ebf7421cedf/numpy-1.18.1-cp36-cp36m-manylinux1_x86_64.whl (20.1MB)\n",
      "\u001b[K     |████████████████████████████████| 20.2MB 1.2MB/s \n",
      "\u001b[?25hRequirement already satisfied: matplotlib==3.1.3 in /usr/local/lib/python3.6/dist-packages (3.1.3)\n",
      "Requirement already satisfied: scipy==1.4.1 in /usr/local/lib/python3.6/dist-packages (1.4.1)\n",
      "Requirement already satisfied: sklearn in /usr/local/lib/python3.6/dist-packages (0.0)\n",
      "Requirement already satisfied: kiwisolver>=1.0.1 in /usr/local/lib/python3.6/dist-packages (from matplotlib==3.1.3) (1.1.0)\n",
      "Requirement already satisfied: python-dateutil>=2.1 in /usr/local/lib/python3.6/dist-packages (from matplotlib==3.1.3) (2.6.1)\n",
      "Requirement already satisfied: cycler>=0.10 in /usr/local/lib/python3.6/dist-packages (from matplotlib==3.1.3) (0.10.0)\n",
      "Requirement already satisfied: pyparsing!=2.0.4,!=2.1.2,!=2.1.6,>=2.0.1 in /usr/local/lib/python3.6/dist-packages (from matplotlib==3.1.3) (2.4.6)\n",
      "Requirement already satisfied: scikit-learn in /usr/local/lib/python3.6/dist-packages (from sklearn) (0.22.1)\n",
      "Requirement already satisfied: setuptools in /usr/local/lib/python3.6/dist-packages (from kiwisolver>=1.0.1->matplotlib==3.1.3) (45.2.0)\n",
      "Requirement already satisfied: six>=1.5 in /usr/local/lib/python3.6/dist-packages (from python-dateutil>=2.1->matplotlib==3.1.3) (1.12.0)\n",
      "Requirement already satisfied: joblib>=0.11 in /usr/local/lib/python3.6/dist-packages (from scikit-learn->sklearn) (0.14.1)\n",
      "\u001b[31mERROR: datascience 0.10.6 has requirement folium==0.2.1, but you'll have folium 0.8.3 which is incompatible.\u001b[0m\n",
      "\u001b[31mERROR: albumentations 0.1.12 has requirement imgaug<0.2.7,>=0.2.5, but you'll have imgaug 0.2.9 which is incompatible.\u001b[0m\n",
      "Installing collected packages: numpy\n",
      "  Found existing installation: numpy 1.17.5\n",
      "    Uninstalling numpy-1.17.5:\n",
      "      Successfully uninstalled numpy-1.17.5\n",
      "Successfully installed numpy-1.18.1\n"
     ]
    },
    {
     "data": {
      "application/vnd.colab-display-data+json": {
       "pip_warning": {
        "packages": [
         "numpy"
        ]
       }
      }
     },
     "metadata": {
      "tags": []
     },
     "output_type": "display_data"
    },
    {
     "name": "stdout",
     "output_type": "stream",
     "text": [
      "Requirement already satisfied: cvxpy==1.0.25 in /usr/local/lib/python3.6/dist-packages (1.0.25)\n",
      "Requirement already satisfied: scikit-image==0.16.2 in /usr/local/lib/python3.6/dist-packages (0.16.2)\n",
      "Requirement already satisfied: multiprocess in /usr/local/lib/python3.6/dist-packages (from cvxpy==1.0.25) (0.70.9)\n",
      "Requirement already satisfied: ecos>=2 in /usr/local/lib/python3.6/dist-packages (from cvxpy==1.0.25) (2.0.7.post1)\n",
      "Requirement already satisfied: osqp>=0.4.1 in /usr/local/lib/python3.6/dist-packages (from cvxpy==1.0.25) (0.6.1)\n",
      "Requirement already satisfied: scs>=1.1.3 in /usr/local/lib/python3.6/dist-packages (from cvxpy==1.0.25) (2.1.1.post2)\n",
      "Requirement already satisfied: scipy>=1.1.0 in /usr/local/lib/python3.6/dist-packages (from cvxpy==1.0.25) (1.4.1)\n",
      "Requirement already satisfied: six in /usr/local/lib/python3.6/dist-packages (from cvxpy==1.0.25) (1.12.0)\n",
      "Requirement already satisfied: numpy>=1.15 in /usr/local/lib/python3.6/dist-packages (from cvxpy==1.0.25) (1.18.1)\n",
      "Requirement already satisfied: networkx>=2.0 in /usr/local/lib/python3.6/dist-packages (from scikit-image==0.16.2) (2.4)\n",
      "Requirement already satisfied: imageio>=2.3.0 in /usr/local/lib/python3.6/dist-packages (from scikit-image==0.16.2) (2.4.1)\n",
      "Requirement already satisfied: pillow>=4.3.0 in /usr/local/lib/python3.6/dist-packages (from scikit-image==0.16.2) (6.2.2)\n",
      "Requirement already satisfied: PyWavelets>=0.4.0 in /usr/local/lib/python3.6/dist-packages (from scikit-image==0.16.2) (1.1.1)\n",
      "Requirement already satisfied: matplotlib!=3.0.0,>=2.0.0 in /usr/local/lib/python3.6/dist-packages (from scikit-image==0.16.2) (3.1.3)\n",
      "Requirement already satisfied: dill>=0.3.1 in /usr/local/lib/python3.6/dist-packages (from multiprocess->cvxpy==1.0.25) (0.3.1.1)\n",
      "Requirement already satisfied: future in /usr/local/lib/python3.6/dist-packages (from osqp>=0.4.1->cvxpy==1.0.25) (0.16.0)\n",
      "Requirement already satisfied: decorator>=4.3.0 in /usr/local/lib/python3.6/dist-packages (from networkx>=2.0->scikit-image==0.16.2) (4.4.1)\n",
      "Requirement already satisfied: kiwisolver>=1.0.1 in /usr/local/lib/python3.6/dist-packages (from matplotlib!=3.0.0,>=2.0.0->scikit-image==0.16.2) (1.1.0)\n",
      "Requirement already satisfied: cycler>=0.10 in /usr/local/lib/python3.6/dist-packages (from matplotlib!=3.0.0,>=2.0.0->scikit-image==0.16.2) (0.10.0)\n",
      "Requirement already satisfied: python-dateutil>=2.1 in /usr/local/lib/python3.6/dist-packages (from matplotlib!=3.0.0,>=2.0.0->scikit-image==0.16.2) (2.6.1)\n",
      "Requirement already satisfied: pyparsing!=2.0.4,!=2.1.2,!=2.1.6,>=2.0.1 in /usr/local/lib/python3.6/dist-packages (from matplotlib!=3.0.0,>=2.0.0->scikit-image==0.16.2) (2.4.6)\n",
      "Requirement already satisfied: setuptools in /usr/local/lib/python3.6/dist-packages (from kiwisolver>=1.0.1->matplotlib!=3.0.0,>=2.0.0->scikit-image==0.16.2) (45.2.0)\n"
     ]
    }
   ],
   "source": [
    "# Installation dependencies\n",
    "!pip3 install numpy==1.18.1 matplotlib==3.1.3 scipy==1.4.1 sklearn\n",
    "!pip3 install cvxpy==1.0.25 scikit-image==0.16.2"
   ]
  },
  {
   "cell_type": "code",
   "execution_count": 2,
   "metadata": {
    "colab": {},
    "colab_type": "code",
    "id": "4j7a0JeQuVeO"
   },
   "outputs": [],
   "source": [
    "# Compatibility imports\n",
    "from __future__ import print_function, division\n",
    "\n",
    "# Imports\n",
    "import os \n",
    "import sys\n",
    "import random\n",
    "\n",
    "import numpy as np \n",
    "import cvxpy as cp \n",
    "\n",
    "import matplotlib.pyplot as plt \n",
    "\n",
    "# Modules specific to problems \n",
    "from sklearn.datasets import make_circles # For problem 2 (Best Polyhedron) \n",
    "from scipy.spatial import ConvexHull # For problem 3 (Largest Ball in Polyhedron)\n",
    "from scipy.linalg import null_space # For problem 4 (Illumination)\n",
    "import matplotlib.cbook as cbook # For problem 5 (Jigsaw)\n",
    "from skimage.transform import resize # For problem 5 (Jigsaw)\n",
    "from scipy.spatial.distance import mahalanobis\n",
    "%matplotlib inline"
   ]
  },
  {
   "cell_type": "code",
   "execution_count": 3,
   "metadata": {
    "colab": {
     "base_uri": "https://localhost:8080/",
     "height": 34
    },
    "colab_type": "code",
    "id": "8s71Pbs7UGcP",
    "outputId": "027eae97-96ba-451f-a782-f75afd357c0a"
   },
   "outputs": [
    {
     "data": {
      "text/plain": [
       "'1.0.25'"
      ]
     },
     "execution_count": 3,
     "metadata": {},
     "output_type": "execute_result"
    }
   ],
   "source": [
    "cp.__version__"
   ]
  },
  {
   "cell_type": "markdown",
   "metadata": {
    "colab_type": "text",
    "editable": false,
    "id": "9yA4_UP0uvTg"
   },
   "source": [
    "## Question-1 Sudoku \n",
    "- In this problem you will develop a mixed integer programming algorithm, based upon branch and bound, to solve Sudoku puzzles as described in class.\n",
    "- In particular, you need to implement the class SudokuSolver \n",
    "\n",
    "The function takes as input a Sudoku puzzle as a 9x9 “list of lists” of integers, i.e.,\n",
    "\n",
    "\n",
    "    puzzle = [[4, 8, 0, 3, 0, 0, 0, 0, 0],\n",
    "              [0, 0, 0, 0, 0, 0, 0, 7, 1],\n",
    "              [0, 2, 0, 0, 0, 0, 0, 0, 0],\n",
    "              [7, 0, 5, 0, 0, 0, 0, 6, 0],\n",
    "              [0, 0, 0, 2, 0, 0, 8, 0, 0],\n",
    "              [0, 0, 0, 0, 0, 0, 0, 0, 0],\n",
    "              [0, 0, 1, 0, 7, 6, 0, 0, 0],\n",
    "              [3, 0, 0, 0, 0, 0, 4, 0, 0],\n",
    "              [0, 0, 0, 0, 5, 0, 0, 0, 0]]\n",
    "\n",
    "where zeros represent missing entries that must be assigned by your algorithm, and all other integers represent a known assignment. \n",
    "\n",
    "- The class SudokuSolver inherits the Sudoku class. You need to make changes **only** to the SudokuSolver class. Write function `plot` to plot the unsolved and solved puzzle. Write function `solve` to create our own solver, the function can get the unsolved puzzle as the input as should return a 9x9 numpy array (solved puzzle), where solved puzzle contains the input puzzle with all the zeros assigned to their correct values. For instance, for the above puzzle\n",
    "this would be\n",
    "\n",
    "    \n",
    "    solved_puzzle = [[4, 8, 7, 3, 1, 2, 6, 9, 5],\n",
    "                     [5, 9, 3, 6, 8, 4, 2, 7, 1],\n",
    "                     [1, 2, 6, 5, 9, 7, 3, 8, 4],\n",
    "                     [7, 3, 5, 8, 4, 9, 1, 6, 2],\n",
    "                     [9, 1, 4, 2, 6, 5, 8, 3, 7],\n",
    "                     [2, 6, 8, 7, 3, 1, 5, 4, 9],\n",
    "                     [8, 5, 1, 4, 7, 6, 9, 2, 3],\n",
    "                     [3, 7, 9, 1, 2, 8, 4, 5, 6],\n",
    "                     [6, 4, 2, 9, 5, 3, 7, 1, 8]]\n",
    "    \n",
    "\n",
    "- You should write code to solve this problem using cvxpy.\n",
    "\n",
    "**Write the code in SudokuSolver class only**. "
   ]
  },
  {
   "cell_type": "code",
   "execution_count": 0,
   "metadata": {
    "colab": {},
    "colab_type": "code",
    "editable": false,
    "id": "ssczBsUDu9un"
   },
   "outputs": [],
   "source": [
    "# Class Sudoku will generate new sudoku problems for you to solve. You cannot change this code. Complete the formulation and the solver below \n",
    "class Sudoku():\n",
    "  def __init__(self):\n",
    "    super(Sudoku,self).__init__()\n",
    "    self.puzzle = None # Unsolved sudoku \n",
    "    self.solution = None # Store the solution here\n",
    "    pass\n",
    "\n",
    "  def construct_solution(self):\n",
    "    \"\"\"\n",
    "      This function created a 9x9 solved sudoku example. \n",
    "      It can be used as a reference to see the performance of your solver.\n",
    "    \"\"\"\n",
    "    while True: # until a solved sudoku puzzle if created\n",
    "      puzzle = np.zeros((9,9))\n",
    "      rows    = [set(range(1,10)) for i in range(9)] #   set of available\n",
    "      columns = [set(range(1,10)) for i in range(9)] #   numbers for each\n",
    "      squares = [set(range(1,10)) for i in range(9)] #   row, column and square\n",
    "\n",
    "      try:\n",
    "        for i in range(9): # for each roe\n",
    "          for j in range(9): # for each column\n",
    "\n",
    "            # Randomly choose a possible number for the location\n",
    "            choices = rows[i].intersection(columns[j]).intersection(squares[(i//3)*3 + j//3])\n",
    "            choice  = random.choice(list(choices))\n",
    "\n",
    "            puzzle[i,j] = choice\t# update the puzzle\n",
    "            \n",
    "            # Remove from the choice from row,column, square\n",
    "            rows[i].discard(choice) \n",
    "            columns[j].discard(choice)\n",
    "            squares[(i//3)*3 + j//3].discard(choice)\n",
    "\n",
    "        # success! every cell is filled.\n",
    "        return puzzle\n",
    "\n",
    "      except IndexError:\n",
    "        # if there is an IndexError, we have worked ourselves in a corner (we just start over)\n",
    "        continue \n",
    "      \n",
    "  def construct_problem(self,solution,n=28):\n",
    "    \"\"\"\n",
    "      Construct the puzzle by removing a cell if it is possible to deduce a cell's value from the remaining cells \n",
    "      @param: n => minimum number of unplucked/remaining cells  \n",
    "    \"\"\"\n",
    "\n",
    "    def canBeDeduced(puz, i, j, c): # check if the cell can be deduced from the remaining cells \n",
    "      v = puz[c//9,c%9]\n",
    "      if puz[i,j] == v: return True\n",
    "      if puz[i,j] in range(1,10): return False\n",
    "        \n",
    "      for m in range(9): # test row, col, square\n",
    "        # if not the cell itself, and the mth cell of the group contains the value v, then \"no\"\n",
    "        if not (m==c//9 and j==c%9) and puz[m,j] == v: return False\n",
    "        if not (i==c//9 and m==c%9) and puz[i,m] == v: return False\n",
    "        if not ((i//3)*3 + m//3==c//9 and (j//3)*3 + m%3==c%9) and puz[(i//3)*3 + m//3,(j//3)*3 + m%3] == v:\n",
    "          return False\n",
    "\n",
    "      return True\n",
    "\n",
    "\n",
    "    cells = set(range(81))\t\n",
    "    cellsLeft = set(range(81))\n",
    "\n",
    "    while len(cells) > n and len(cellsLeft): # Cells in the problem > n and cells left to be plucked > 0\t\n",
    "      cell = random.choice(list(cellsLeft)) # choose a random cell\n",
    "      cellsLeft.discard(cell)\n",
    "\n",
    "      # record whether another cell in these groups could also take\n",
    "      # on the value we are trying to pluck\n",
    "      row = col = square = False  \n",
    "\n",
    "      for i in range(9): # For all numbers\n",
    "        if i != cell/9: # can be deduced from the row\n",
    "          if canBeDeduced(solution, i, cell%9, cell): row = True\n",
    "        if i != cell%9: # can be deduced from the col\n",
    "          if canBeDeduced(solution, cell//9, i, cell): col = True\n",
    "        if not (((cell//9)//3)*3 + i//3 == cell//9 and ((cell//9)%3)*3 + i%3 == cell%9): # can be deduced from the square\n",
    "          if canBeDeduced(solution, ((cell//9)//3)*3 + i//3, ((cell//9)%3)*3 + i%3, cell): square = True\n",
    "\n",
    "      if row and col and square:\n",
    "        continue # could not pluck this cell, try again.\n",
    "      else:\n",
    "        # this is a pluckable cell!\n",
    "        solution[cell//9][cell%9] = 0 # 0 denotes a blank cell\n",
    "        cells.discard(cell) # remove from the set of visible cells (pluck it)\n",
    "        # we don't need to reset \"cellsleft\" because if a cell was not pluckable\n",
    "        # earlier, then it will still not be pluckable now (with less information\n",
    "        # on the board).\n",
    "\n",
    "    return solution    "
   ]
  },
  {
   "cell_type": "markdown",
   "metadata": {
    "colab_type": "text",
    "id": "zJ-WMy80BYhA"
   },
   "source": [
    "**Write the formulation of your solution here**"
   ]
  },
  {
   "cell_type": "code",
   "execution_count": 0,
   "metadata": {
    "colab": {
     "base_uri": "https://localhost:8080/",
     "height": 595
    },
    "colab_type": "code",
    "id": "Pa6-pSDmCRk_",
    "outputId": "a11f6234-5433-4cac-dada-bdd481760896"
   },
   "outputs": [
    {
     "name": "stdout",
     "output_type": "stream",
     "text": [
      "Solving\n",
      "Solution is: optimal\n",
      "Minimum Objective value is: -0.0\n",
      "Puzzle\n",
      "[[0. 0. 1. 2. 0. 3. 0. 6. 9.]\n",
      " [0. 5. 0. 0. 6. 7. 0. 4. 0.]\n",
      " [6. 8. 0. 9. 5. 0. 0. 7. 1.]\n",
      " [0. 1. 0. 4. 3. 6. 0. 2. 0.]\n",
      " [0. 2. 5. 0. 1. 0. 0. 8. 6.]\n",
      " [4. 0. 9. 8. 0. 0. 1. 0. 0.]\n",
      " [0. 3. 0. 0. 0. 8. 0. 9. 2.]\n",
      " [5. 0. 0. 0. 7. 0. 3. 0. 0.]\n",
      " [2. 7. 4. 0. 9. 0. 0. 5. 8.]]\n",
      "Original Solution\n",
      "[[7. 4. 1. 2. 8. 3. 5. 6. 9.]\n",
      " [9. 5. 2. 1. 6. 7. 8. 4. 3.]\n",
      " [6. 8. 3. 9. 5. 4. 2. 7. 1.]\n",
      " [8. 1. 7. 4. 3. 6. 9. 2. 5.]\n",
      " [3. 2. 5. 7. 1. 9. 4. 8. 6.]\n",
      " [4. 6. 9. 8. 2. 5. 1. 3. 7.]\n",
      " [1. 3. 6. 5. 4. 8. 7. 9. 2.]\n",
      " [5. 9. 8. 6. 7. 2. 3. 1. 4.]\n",
      " [2. 7. 4. 3. 9. 1. 6. 5. 8.]]\n",
      "My Solution\n",
      "[[7. 4. 1. 2. 8. 3. 5. 6. 9.]\n",
      " [9. 5. 2. 1. 6. 7. 8. 4. 3.]\n",
      " [6. 8. 3. 9. 5. 4. 2. 7. 1.]\n",
      " [8. 1. 7. 4. 3. 6. 9. 2. 5.]\n",
      " [3. 2. 5. 7. 1. 9. 4. 8. 6.]\n",
      " [4. 6. 9. 8. 2. 5. 1. 3. 7.]\n",
      " [1. 3. 6. 5. 4. 8. 7. 9. 2.]\n",
      " [5. 9. 8. 6. 7. 2. 3. 1. 4.]\n",
      " [2. 7. 4. 3. 9. 1. 6. 5. 8.]]\n",
      "True\n"
     ]
    }
   ],
   "source": [
    "from copy import deepcopy\n",
    "# Create your sudoku puzzle solver here\n",
    "class SudokuSolver(Sudoku):\n",
    "  def __init__(self):\n",
    "    super(SudokuSolver,self).__init__()\n",
    "    self.solution = self.construct_solution() # Store the solution here\n",
    "    self.puzzle = self.construct_problem(self.solution.copy(),n=28) # Unsolved sudoku \n",
    "\n",
    "\n",
    "  def plot(self):\n",
    "    print(\"Puzzle\")\n",
    "    print(self.puzzle)\n",
    "\n",
    "    \"\"\"\n",
    "      Write code here for plotting your solution\n",
    "    \"\"\"\n",
    "\n",
    "    print(\"Original Solution\")\n",
    "    print(self.solution)   \n",
    "    \n",
    "    ans = deepcopy(self.puzzle)\n",
    "    for i in range(9):\n",
    "        for j in range(9):\n",
    "            if ans[i][j] == 0:\n",
    "                for k in range(9):\n",
    "                    if np.abs(np.round(self.numbers[i][j][k].value) == 1):\n",
    "                        ans[i][j] = k + 1\n",
    "    \n",
    "    print(\"My Solution\")\n",
    "    print(ans)\n",
    "    \n",
    "    print(np.array_equal(ans,self.solution))\n",
    "    \n",
    "\n",
    "  def solve(self):\n",
    "    \"\"\"\n",
    "      Write your code here.\n",
    "      The function should return the solved sudoku puzzle \n",
    "    \"\"\"\n",
    "    #numbers =  rows * cols * vals\n",
    "    constraints = []\n",
    "    numbers = []\n",
    "    obj = cp.Maximize(0)\n",
    "    \n",
    "    for i in range(9):\n",
    "        row = []\n",
    "        for j in range(9):\n",
    "            cell = []\n",
    "            for k in range(9):\n",
    "                cell.append(cp.Variable(integer=True))\n",
    "                constraints.append(cell[-1] >= 0)\n",
    "                constraints.append(cell[-1] <= 1)\n",
    "            row.append(cell)\n",
    "        numbers.append(row)\n",
    "\n",
    "    #GIVEN CELLS\n",
    "    for i in range(9):\n",
    "        for j in range(9):\n",
    "            if self.puzzle[i][j] != 0 :\n",
    "                constraints.append(numbers[i][j][int(self.puzzle[i][j])-1]==1)\n",
    "                for k in range(9):\n",
    "                    if (k != int(self.puzzle[i][j])-1):\n",
    "                        constraints.append(numbers[i][j][k]==float(0))\n",
    "                            \n",
    "    #ROW COLUMN FIXED\n",
    "    for row in range(9):\n",
    "        for column in range(9):\n",
    "            temp_sum = 0\n",
    "            for cell in range(9):\n",
    "                temp_sum += numbers[row][column][cell]\n",
    "            constraints.append(temp_sum==float(1))\n",
    "    \n",
    "    #CELL COLUMN FIXED\n",
    "    for cell in range(9):\n",
    "        for column in range(9):\n",
    "            temp_sum = 0\n",
    "            for row in range(9):\n",
    "                temp_sum += numbers[row][column][cell]\n",
    "            constraints.append(temp_sum==float(1))\n",
    "    \n",
    "    #CELL ROW FIXED\n",
    "    for cell in range(9):\n",
    "        for row in range(9):\n",
    "            temp_sum = 0\n",
    "            for column in range(9):\n",
    "                temp_sum += numbers[row][column][cell]\n",
    "            constraints.append(temp_sum==1)\n",
    "            \n",
    "    # BOX/GRID\n",
    "    for box_x in range(3):\n",
    "        for box_y in range(3):\n",
    "            for cell in range(9):\n",
    "                temp_sum = 0\n",
    "                temp_sum += numbers[3*box_x + 0][3*box_y + 0][cell]\n",
    "                temp_sum += numbers[3*box_x + 1][3*box_y + 0][cell]\n",
    "                temp_sum += numbers[3*box_x + 2][3*box_y + 0][cell]\n",
    "                temp_sum += numbers[3*box_x + 0][3*box_y + 1][cell]\n",
    "                temp_sum += numbers[3*box_x + 1][3*box_y + 1][cell]\n",
    "                temp_sum += numbers[3*box_x + 2][3*box_y + 1][cell]\n",
    "                temp_sum += numbers[3*box_x + 0][3*box_y + 2][cell]\n",
    "                temp_sum += numbers[3*box_x + 1][3*box_y + 2][cell]\n",
    "                temp_sum += numbers[3*box_x + 2][3*box_y + 2][cell]\n",
    "                constraints.append(temp_sum==float(1))\n",
    "    \n",
    "    prob = cp.Problem(obj, constraints)\n",
    "    print(\"Solving\")\n",
    "    result = prob.solve(verbose=False)\n",
    "    print(\"Solution is:\", prob.status)\n",
    "    print(\"Minimum Objective value is:\", result)\n",
    "    self.numbers = numbers\n",
    "    return numbers\n",
    "    \n",
    "solver = SudokuSolver()\n",
    "numbers = solver.solve()\n",
    "solver.plot()"
   ]
  },
  {
   "cell_type": "markdown",
   "metadata": {
    "colab_type": "text",
    "id": "oIioAxilFDNj"
   },
   "source": [
    "## Question-2 Polyhedron"
   ]
  },
  {
   "cell_type": "markdown",
   "metadata": {
    "colab_type": "text",
    "id": "EGByRoKLiMhc"
   },
   "source": [
    "Explain how you would solve the following problem using linear programming. You\n",
    "are given two sets of points in R<sub>n</sub>:\n",
    "\n",
    "$$S1 = \\{ x_1, . . . , x_N \\}, \\space S2 = \\{y_1, . . . , y_M\\}.$$\n",
    "You are asked to find a polyhedron\n",
    "$$P = \\{x | \\space a_i^T x ≤ b_i, i = 1, . . . , m\\}$$\n",
    "that contains the points in S1 in its interior, and does not contain any of the points in S2:\n",
    "$$S1 ⊆ \\{x | \\space a_i^T x < b_i, i = 1, . . . , m\\}$$\n",
    "$$ S2 ⊆ \\{x |\\space  a_i^T x > b_i \\space for \\space \\space at \\space \\space least\\space\\space  one \\space i \\} = R_n - P.$$\n",
    "\n",
    "An example is shown in the figure, with the points in S1 shown as open circles and the points in S2 as filled circles. You can assume that the two sets are separable in the way described. \n",
    "\n",
    "![alt text](https://drive.google.com/uc?export=view&id=19N_kj6cOXZmaKvlMExOScoqRTPegKODM)\n",
    "\n",
    "- Your solution method should return a_i and b_i, i = 1, . . . , m, given the sets S1 and S2. The number of inequalities\n",
    "m is not specified, but it should not exceed 20, i.e your polyhedron should not have more than 20 faces. \n",
    "\n",
    "- You are allowed to solve one or more\n",
    "LPs or LP feasibility problems. The method should be efficient, i.e., the dimensions of the\n",
    "LPs you solve should not be exponential as a function of N and M.\n",
    "\n",
    "- You can calculate the quality of your solution by dividing the number of points in S1 your polyhedron is leaving out (points lying outside the polyhedron) by the total number of points in the set S1 (= N). The lower the value, the more efficient your solution will be. Use this metric to choose the most efficient solution out of all the possible solutions.\n",
    "\n",
    "- The class PolyhedronSolver inherits the Polyhedron class. You need to make changes **only** to the PolyhedronSolver class. Write function `plot` to plot the points and the polyhedron (Look at question-3 on how to plot a polyhedron). Write function `solve` to create our own solver, the function can get the S1 & S2 as the input as should return a numpy array of size Dx2, where the D is the number the vertices of the polyhedron. "
   ]
  },
  {
   "cell_type": "code",
   "execution_count": 0,
   "metadata": {
    "colab": {},
    "colab_type": "code",
    "id": "styV8M9uFIHD"
   },
   "outputs": [],
   "source": [
    "class Polyhedron():\n",
    "  def __init__(self):\n",
    "    super(Polyhedron,self).__init__()\n",
    "    data, labels = make_circles(n_samples=1000, noise=0.15,factor=0.3) # This will create our data\n",
    "    self.S1 = data[labels==0] # Points outside the polyhedron\n",
    "    self.S2 = data[labels==1] # Points intside the polyhedron"
   ]
  },
  {
   "cell_type": "markdown",
   "metadata": {
    "colab_type": "text",
    "id": "V8rkQGYTEIMP"
   },
   "source": [
    "**Write the formulation of your solution here**"
   ]
  },
  {
   "cell_type": "code",
   "execution_count": 0,
   "metadata": {
    "colab": {},
    "colab_type": "code",
    "id": "YnxUSGflzp5L"
   },
   "outputs": [],
   "source": [
    "import math"
   ]
  },
  {
   "cell_type": "code",
   "execution_count": 0,
   "metadata": {
    "colab": {
     "base_uri": "https://localhost:8080/",
     "height": 533
    },
    "colab_type": "code",
    "id": "DbbO8tEgEIMb",
    "outputId": "9dc03705-917a-4f95-8125-32d044cce1c2"
   },
   "outputs": [
    {
     "name": "stdout",
     "output_type": "stream",
     "text": [
      "optimal\n",
      "0.098\n"
     ]
    },
    {
     "data": {
      "image/png": "[encoded data removed]",
      "text/plain": [
       "<Figure size 576x576 with 1 Axes>"
      ]
     },
     "metadata": {
      "tags": []
     },
     "output_type": "display_data"
    }
   ],
   "source": [
    "class PolyhedronSolver(Polyhedron):\n",
    "    def __init__(self):\n",
    "        super(PolyhedronSolver,self).__init__()\n",
    "        pass\n",
    "\n",
    "    def plot(self,d):\n",
    "        fig = plt.figure(figsize=(8,8)) # Create 8x8 inches figure  \n",
    "        ax = fig.add_subplot(111) # Create a graph inside the figure\n",
    "        ax.scatter(self.S1[:,0],self.S1[:,1],c=\"red\",label=\"outside polyhedron\") # Plot S1\n",
    "        ax.scatter(self.S2[:,0],self.S2[:,1],c=\"orange\",label=\"inside polyhedron\") # PlotS2\n",
    "\n",
    "        ax.plot( d[:,0],d[:,1],c=\"blue\" )\n",
    "        plt.legend()\n",
    "        ax.set_title(\"Division of data by polyhedron\")\n",
    "        plt.show()\n",
    "        \n",
    "    def solve(self):\n",
    "            \n",
    "        \"\"\"\n",
    "          Write your code here. \n",
    "        \"\"\"\n",
    "        radius = cp.Variable(1)\n",
    "        y = cp.Variable(self.S2.shape[0])\n",
    "\n",
    "        constraints = []\n",
    "        constraints.append(radius >= 0)\n",
    "        objective = cp.Maximize(cp.sum(y))\n",
    "\n",
    "        for i in range(self.S1.shape[0]):\n",
    "            constraints.append(math.sqrt(self.S1[i][0]**2 + self.S1[i][1]**2) >= radius)\n",
    "\n",
    "        for i in range(self.S2.shape[0]):\n",
    "            constraints.append(y[i] == radius - math.sqrt(self.S2[i][0]**2 + self.S2[i][1]**2) )\n",
    "\n",
    "        p = cp.Problem(objective, constraints)\n",
    "        result = p.solve(solver = cp.GLPK)\n",
    "        print(p.status)\n",
    "        theta = np.linspace(0,2*np.pi,20)\n",
    "        d = np.zeros((20,2))\n",
    "        for i in range(20):\n",
    "            d[i][0] = radius.value*math.cos(theta[i])\n",
    "            d[i][1] = radius.value*math.sin(theta[i])\n",
    "\n",
    "        ratio = 0\n",
    "        for i in range(self.S2.shape[0]):\n",
    "            if( ((d[19][1]-d[0][1])*self.S2[i][0] + (d[0][0]-d[19][0])*self.S2[i][0] - (d[19][1]*d[0][0] - d[19][0]*d[0][1]))*(-d[19][1]*d[0][0] + d[19][0]*d[0][1]) < 0):\n",
    "                ratio = ratio + 1\n",
    "            else:\n",
    "                for j in range(19):\n",
    "                    if( ((d[j][1]-d[j+1][1])*self.S2[i][0] + (d[j+1][0]-d[j][0])*self.S2[i][0] - (d[j][1]*d[j+1][0] - d[j][0]*d[j+1][1]))*(-d[j][1]*d[j+1][0] + d[j][0]*d[j+1][1]) < 0):\n",
    "                        ratio = ratio + 1\n",
    "                        break\n",
    "        ratio = ratio/self.S2.shape[0]\n",
    "        print(ratio)\n",
    "\n",
    "        return d\n",
    "\n",
    "solver = PolyhedronSolver()\n",
    "d = solver.solve()\n",
    "solver.plot(d)"
   ]
  },
  {
   "cell_type": "markdown",
   "metadata": {
    "colab_type": "text",
    "editable": false,
    "id": "ppcsgPSlwxOo"
   },
   "source": [
    "## Question-3  Largest Ball in a polyhedron"
   ]
  },
  {
   "cell_type": "markdown",
   "metadata": {
    "colab_type": "text",
    "editable": false,
    "id": "hFUuZTGbVXis"
   },
   "source": [
    "Find the largest ball \n",
    "$$ B(x_c, R) = \\{ x :  ||x − x_c|| ≤ R \\}$$\n",
    "enclosed in a given polyhedron\n",
    "$$ P = \\{ x | a_i^T x ≤ b_i, i = 1, . . . , m\\} $$\n",
    "\n",
    "- The problem variables are the center x<sub>c</sub> ∈ R<sub>n</sub> and the radius R of the ball.\n",
    "\n",
    "- The class CircleSolver inherits the CircleSolver class. You need to make changes only to the CircleSolver class. Write function `plot` to plot the polyhedron and the circle. Write function `solve` to create our own solver, the function can get the polyhedron as the input as should return a tuple (center,radius) where center is 1x2 numpy array containing the center of the circle, and radius is a scalar value containing the largest radius of the possible. "
   ]
  },
  {
   "cell_type": "code",
   "execution_count": 0,
   "metadata": {
    "colab": {},
    "colab_type": "code",
    "editable": false,
    "id": "vWfS_EzM5mA9"
   },
   "outputs": [],
   "source": [
    "class CircleInPolygon():\n",
    "  def __init__(self):\n",
    "     super(CircleInPolygon,self).__init__()\n",
    "     self.polygon = np.random.random((10,2))\n",
    "     self.polygon = self.polygon[ConvexHull(self.polygon).vertices,:] # A polygon is stored here"
   ]
  },
  {
   "cell_type": "markdown",
   "metadata": {
    "colab_type": "text",
    "id": "WbXs_rpNwxOv"
   },
   "source": [
    "**Write the formulation of problem here**"
   ]
  },
  {
   "cell_type": "code",
   "execution_count": 0,
   "metadata": {
    "colab": {
     "base_uri": "https://localhost:8080/",
     "height": 567
    },
    "colab_type": "code",
    "id": "8l_ep4FNwxOy",
    "outputId": "efedf94c-c3c5-4731-ffa7-ed176b8ef617"
   },
   "outputs": [
    {
     "name": "stdout",
     "output_type": "stream",
     "text": [
      "Solving\n",
      "Solution is: optimal\n",
      "Maximum Objective value is: 0.3762278456449482\n",
      "0.3762278456449482\n"
     ]
    },
    {
     "data": {
      "image/png": "[encoded data removed]",
      "text/plain": [
       "<Figure size 576x576 with 1 Axes>"
      ]
     },
     "metadata": {
      "tags": []
     },
     "output_type": "display_data"
    }
   ],
   "source": [
    "# Create your circle puzzle solver here\n",
    "class CircleSolver(CircleInPolygon):\n",
    "  def __init__(self):\n",
    "     super(CircleSolver,self).__init__()\n",
    "\n",
    "\n",
    "  def plot(self):\n",
    "\n",
    "    fig = plt.figure(figsize=(8,8))\n",
    "    ax = fig.add_subplot(111)\n",
    "    ax.plot(self.polygon[:,0],self.polygon[:,1],linewidth=3,c=\"black\") # Plot the points\n",
    "    ax.plot([self.polygon[0,0],self.polygon[-1,0]],[self.polygon[0,1],self.polygon[-1,1]],linewidth=3,c=\"black\") # Plot the edges\n",
    "    ax.scatter(self.polygon[:,0],self.polygon[:,1],s=100,c=\"red\",label=\"Polygon\") # Plot the edge connecting last and the first point\n",
    "\n",
    "    \"\"\"\n",
    "     Add code to plot the circle\n",
    "    \"\"\"\n",
    "    circle = plt.Circle((self.center[0], self.center[1]), self.radius, color='r')\n",
    "    ax.add_artist(circle)\n",
    "    ax.set_title(\"Largest Circle inside a polyhedron\")\n",
    "    plt.legend()\n",
    "    plt.show()\n",
    "\n",
    "\n",
    "  def solve(self):\n",
    " \n",
    "    radius = cp.Variable()\n",
    "    center = cp.Variable(2)\n",
    "    constraints = []\n",
    "    constraints.append(radius>=0)\n",
    "    for idx in range(len(self.polygon)):\n",
    "        p1 = self.polygon[idx]\n",
    "        p2 = self.polygon[(idx+1)%len(self.polygon)]\n",
    "        diff = p2 - p1\n",
    "        \n",
    "        a = np.array([diff[1],-diff[0]])\n",
    "        b = p1[0]*diff[1] - p1[1]*diff[0]\n",
    "        constraints.append(-a[0]*center[0]-a[1]*center[1]+b>=radius*np.linalg.norm(a,2))\n",
    "    \n",
    "\n",
    "    \n",
    "    objective = cp.Maximize(radius)\n",
    "    prob = cp.Problem(objective, constraints)\n",
    "    print(\"Solving\")\n",
    "    result = prob.solve(verbose=False)\n",
    "    print(\"Solution is:\", prob.status)\n",
    "    print(\"Maximum Objective value is:\", result)\n",
    "    print(radius.value)\n",
    "    self.radius = radius.value\n",
    "    self.center = center.value\n",
    "\n",
    "\n",
    "solver = CircleSolver()\n",
    "solver.solve()\n",
    "solver.plot()"
   ]
  },
  {
   "cell_type": "markdown",
   "metadata": {
    "colab_type": "text",
    "editable": false,
    "id": "zqGzvTjMz2t6"
   },
   "source": [
    "## Question-4 Illumination Problem \n"
   ]
  },
  {
   "cell_type": "markdown",
   "metadata": {
    "colab_type": "text",
    "editable": false,
    "id": "odwZ9msNbnyj"
   },
   "source": [
    "We consider an illumination system of m lamps, at positions l<sub>1</sub>, . . . , l<sub>m</sub> ∈ R<sup>2</sup>, illuminating n flat patches. \n",
    "The patches are line segments; the ith patch is given by $$[v_i, v_i+1]$$ where v<sub>1</sub>, . . . , v<sub>n+1</sub> ∈ R<sup>2</sup>. The variables in the problem are the lamp powers p<sub>1</sub>, . . . , p<sub>m</sub>, which can vary between 0 and 1.\n",
    "The illumination at (the midpoint of) patch i is denoted I<sub>i</sub>. We will use a simple model for the illumination:\n",
    "\n",
    "\n",
    "   $$Ii = \\sum_{j=1}^m a_{ij}p_{j} $$\n",
    "   $$ a_{ij} = r_{ij} ^{−2} ( max(cos θ_{ij},0) )$$\n",
    "where r<sub>ij</sub> denotes the distance between lamp j and the midpoint of patch i, and θ<sub>ij</sub> denotes the angle between the upward normal of patch i and the vector from the midpoint of patch i to lamp j. \n",
    "\n",
    "![alt text](https://drive.google.com/uc?id=1ZyHm9hmKKZRvLryNkiixTEMTCxZts0qH)\n",
    "\n",
    "This model takes into account “self-shading” (i.e., the fact that a patch is illuminated only by lamps in the halfspace it faces) but not shading of one patch caused by another. Of course we could use a more complex illumination model, including shading and even reflections. This just changes the matrix relating the lamp powers to the patch illumination levels.\n",
    "\n",
    "The problem is to determine lamp powers that make the illumination levels close to a given desired illumination level Ides, subject to the power limits 0 ≤ p<sub>i</sub> ≤ 1. Suppose we use the maximum deviation\n",
    "\n",
    "####   $$ φ(p) = max_{k=1,...,n} |I_{k} − I_{des}| $$\n",
    "as a measure for the deviation from the desired illumination level. Formulate the illumination problem using this criterion as a linear programming problem.\n",
    "\n",
    "Create the data using the $Illumination$ class and solve the problem using IlluminationSolver class. \n",
    "The elements of A are the coefficients a<sub>ij</sub> in the above equation. \n",
    "\n",
    "Compute a feasible p using this first method, and calculate φ(p)\n",
    "\n"
   ]
  },
  {
   "cell_type": "code",
   "execution_count": 0,
   "metadata": {
    "colab": {},
    "colab_type": "code",
    "editable": false,
    "id": "WDageUPVz2uK"
   },
   "outputs": [],
   "source": [
    "class Illumination():\n",
    "  def __init__(self):\n",
    "    super(Illumination,self).__init__()\n",
    "\n",
    "    # Lamp position\n",
    "    self.Lamps = np.array([[0.1 ,0.3, 0.4, 0.6 ,0.8 ,0.9 ,0.95],[1.0, 1.1, 0.6 ,0.9, 0.9 ,1.2, 1.00]])\n",
    "    self.m = self.Lamps.shape[1]    # number of lamps\n",
    "\n",
    "    # begin and endpoints of patches  \n",
    "    self.patches = [np.arange(0,1,1/12),np.array([0 ,0.1 ,0.2, 0.2, 0.1, 0.2 ,0.3 ,0.2 ,0 ,  0 ,  0.2, 0.1])]\n",
    "    self.patches = np.array(self.patches)\n",
    "    self.n = self.patches.shape[1] -1  # number of patches\n",
    "\n",
    "    # desired illumination\n",
    "    Ides = 2;\n",
    "\n",
    "    # construct A\n",
    "    self.dpatches = self.patches[:,1:] - self.patches[:,:-1];  # tangent to patches\n",
    "    self.patches_mid = self.patches[:,1:] - 0.5*self.dpatches;         # midpoint of patches\n",
    "    A = np.zeros((self.n,self.m));\n",
    "    for i in range(self.n):\n",
    "      for j in range(self.m):\n",
    "        dVI = self.Lamps[:,j]-self.patches_mid[:,i] # Find the distance between each lamp and patch \n",
    "        rij = np.linalg.norm(dVI,ord=2) # Find the radius/distance between lamp and the midpoint of the patch \n",
    "        normal = null_space(self.dpatches[:,i].reshape(1,2)) # Find the normal\n",
    "\n",
    "        if normal[1] < 0: # we want an upward pointing normal  \n",
    "          normal = -1*normal\n",
    "        A[i,j] = dVI.dot(normal)/(np.linalg.norm(dVI,ord=2)*np.linalg.norm(normal,ord=2))/(rij**2); # Find A[i,j] as defined above\n",
    "        if A[i,j] < 0: \n",
    "          A[i,j] = 0\n",
    "\n",
    "    self.A = A"
   ]
  },
  {
   "cell_type": "markdown",
   "metadata": {
    "colab_type": "text",
    "id": "wJktrEc3z2uE"
   },
   "source": [
    "**Write the formulation of problem here**"
   ]
  },
  {
   "cell_type": "code",
   "execution_count": 0,
   "metadata": {
    "colab": {
     "base_uri": "https://localhost:8080/",
     "height": 187
    },
    "colab_type": "code",
    "id": "Ng9VL94roG4q",
    "outputId": "fe585569-6bbd-4baa-bce6-b6eef4c6a182"
   },
   "outputs": [
    {
     "name": "stdout",
     "output_type": "stream",
     "text": [
      "Solving\n",
      "Solution is: optimal\n",
      "Minimum Objective value is: 1.0910372833138406\n",
      "[[ 1.00000000e+00]\n",
      " [ 6.63700612e-01]\n",
      " [-9.13579885e-24]\n",
      " [-2.90358721e-23]\n",
      " [-2.83249035e-23]\n",
      " [ 2.65217470e-01]\n",
      " [ 1.00000000e+00]]\n"
     ]
    }
   ],
   "source": [
    "# Create your illumination solver here\n",
    "class IlluminationSolver(Illumination):\n",
    "  def __init__(self):\n",
    "    super(IlluminationSolver,self).__init__()\n",
    "\n",
    "  def plot(self):\n",
    "    fig = plt.figure(figsize=(16,8))\n",
    "    ax = fig.add_subplot(111)\n",
    "     \n",
    "    ax.scatter(self.Lamps[0,:],self.Lamps[1,:],s=100,c=\"red\",label=\"Lamps\") # Lamps\n",
    "    ax.scatter(self.patches_mid[0,:],self.patches_mid[1,:],s=50,c=\"blue\",label=\"Patch Mid-point\") # Lamps\n",
    "    ax.plot(self.patches[0,:],self.patches[1,:],linewidth=3,c=\"black\",label=\"Patches\") # Patches\n",
    "\n",
    "    # Normal joining lamps and patchs \n",
    "    for i in range(self.n):\n",
    "      for j in range(self.m):\n",
    "        if self.A[i,j] > 0:\n",
    "          ax.plot([self.Lamps[0,j], self.patches_mid[0,i]],[self.Lamps[1,j], self.patches_mid[1,i]],'r--',linewidth=0.1,alpha=1)\n",
    "          ax.text((self.Lamps[0,j]+self.patches_mid[0,i])/2,(self.Lamps[1,j] + self.patches_mid[1,i])/2,\"A={0:.2f}\".format(self.A[i,j]),alpha=0.5)\n",
    "\n",
    "    plt.legend()\n",
    "    plt.show()\n",
    "  \n",
    "  def solve(self):\n",
    "    \"\"\"\n",
    "      Write your solver here\n",
    "    \"\"\"\n",
    "    self.Ides = 2\n",
    "    t = cp.Variable()\n",
    "    x = cp.Variable((self.m,1))\n",
    "    b = np.full((self.n,1),self.Ides)\n",
    "\n",
    "    constraints = [x<=1,x>=0,self.A*x - b <= t,self.A*x - b >= -t]\n",
    "    objective = cp.Minimize(t)\n",
    "    prob = cp.Problem(objective, constraints)\n",
    "    print(\"Solving\")\n",
    "    result = prob.solve(verbose=False)\n",
    "    print(\"Solution is:\", prob.status)\n",
    "    print(\"Minimum Objective value is:\", result)\n",
    "    print(x.value)\n",
    "    \n",
    "    \n",
    "    return \n",
    "\n",
    "solver = IlluminationSolver()\n",
    "solver.solve()\n",
    "# solver.plot()\n"
   ]
  },
  {
   "cell_type": "markdown",
   "metadata": {
    "colab_type": "text",
    "editable": false,
    "id": "Zj8hufS9xwNl"
   },
   "source": [
    "## Question-5 Jigsaw "
   ]
  },
  {
   "cell_type": "markdown",
   "metadata": {
    "colab_type": "text",
    "editable": false,
    "id": "ex3t_MTgd6Wa"
   },
   "source": [
    "Solving jigsaw puzzles computationally remains a relevant and intriguing problem noted for its applications to real-world problems. \n",
    "\n",
    "In this problem, you'll implement a solver that solves jigsaw puzzles using linear programming. \n",
    "\n",
    "The current problem requires you to only solve Type I problems (i.e. problems where the orientation of the pieces is known).\n",
    "\n",
    "You may refer to this paper [Solving Jigsaw Puzzles with Linear Programming](https://arxiv.org/abs/1511.04472) for implementation details. \n",
    "\n",
    "![alt text](https://drive.google.com/uc?id=19MyWwH6XV4jz244E5yBJAH0baZAXddVx)\n",
    "\n",
    "- Jigsaw class will take an image as input and will create a random jigsaw puzzle. Function patches2image will reconstruct the image back from the patches\n",
    "\n",
    "- The class JigsawSolver inherits the Jigsaw class. You need to make changes only to the JigsawSolver class. Write function `solve` to create our own solver, the function can get a numpy array of shape RxCxHxWx3 as input, where R & C are the number of  rows and cols in the jigsaw puzzle respectively and HxW is the height and width of each peice. The output of the function should be a numpy array of shape RxCxHxWx3 which would be the solution.  "
   ]
  },
  {
   "cell_type": "code",
   "execution_count": 4,
   "metadata": {
    "colab": {},
    "colab_type": "code",
    "id": "6QCWluXn97C2"
   },
   "outputs": [],
   "source": [
    "class Jigsaw():\n",
    "    def __init__(self,path=None):\n",
    "        super(Jigsaw,self).__init__()\n",
    "        \"\"\"\n",
    "        Initialize your Jigsaw puzzle, you can provide path to an image or we will load the default image\n",
    "        \"\"\"\n",
    "        print(path)\n",
    "        if path is None:  # Load default image  \n",
    "            with cbook.get_sample_data('grace_hopper.png') as image_file:\n",
    "                self.image = plt.imread(image_file)\n",
    "        else:\n",
    "            self.image = plt.imread(path)  # Load image of your choice\n",
    "\n",
    "        self.original_size = self.image.shape[0:2] #Store the original size of the image\n",
    "        self.new_size = (500,500) # Store new image size, 500x500\n",
    "        self.rows = 5 # number of rows in jigsaw puzzle\n",
    "        self.cols = 5 # number of cols in jigsaw puzzle\n",
    "\n",
    "        # RxCxHxWx3 numpy array storing the jigsaw puzzle\n",
    "        self.jigsaw = self.create_jigsaw_puzzle(self.image,self.new_size,self.rows,self.cols)\n",
    "        \n",
    "    def image2patches(self,image,new_size,rows,cols):\n",
    "        \"\"\"\n",
    "          This function converts an image to patches for jigsaw puzzle\n",
    "          @param: image -> input image\n",
    "          @param: new_size -> shape to which image will be resized\n",
    "          @param: rows -> number of rows in the jigsaw puzzle\n",
    "          @param: rows -> number of cols in the jigsaw puzzle\n",
    "\n",
    "          @returns: patches -> RxCxHxWx3 numpy array storing the jigsaw puzzle's patches\n",
    "        \"\"\"\n",
    "\n",
    "        image = resize(image,self.new_size) # resize the original image \n",
    "        patches = np.zeros((self.rows,self.cols,self.new_size[0]//self.rows,self.new_size[1]//self.cols,3)) # store the jigsaw puzzle here\n",
    "        for i in range(self.rows): # for every row of jigsaw\n",
    "            for j in range(self.cols): # for every col of jigsaw\n",
    "                patches[i,j,:,:,:] = self.image[i*self.new_size[0]//self.rows:(i+1)*self.new_size[0]//self.rows,j*self.new_size[0]//self.cols:(j+1)*self.new_size[0]//self.cols,:]\n",
    "        return patches \n",
    "    \n",
    "    \n",
    "    def patches2image(self,patches,original_size):\n",
    "        \"\"\"\n",
    "          This function recreates images from patches\n",
    "          @param: patches -> RxCxHxWx3 numpy array storing the jigsaw puzzle's patches\n",
    "          @param: orignal_size -> shape to which image will be resized\n",
    "\n",
    "          @returns: image -> output image \n",
    "        \"\"\"\n",
    "        R,C,H,W,_ = patches.shape\n",
    "        image = np.zeros((R*H,C*W,3))\n",
    "        for i in range(R):\n",
    "            for j in range(C):\n",
    "                image[i*H:(i+1)*H,j*W:(j+1)*W,:] = patches[i,j,:,:,:] \n",
    "\n",
    "        image = resize(image,original_size) \n",
    "        return image \n",
    "\n",
    "    def create_jigsaw_puzzle(self,image,new_size,rows,cols):\n",
    "        patches = self.image2patches(image,new_size,rows,cols)\n",
    "        R,C,H,W,_ = patches.shape\n",
    "        patches = patches.reshape((-1,H,W,3))\n",
    "        patches = patches[np.random.permutation(R*C),...].reshape((R,C,H,W,3))\n",
    "        return patches"
   ]
  },
  {
   "cell_type": "markdown",
   "metadata": {
    "colab_type": "text",
    "id": "JvJvwOsaxwNu"
   },
   "source": [
    "**Write the formulation of problem here**"
   ]
  },
  {
   "cell_type": "code",
   "execution_count": 5,
   "metadata": {
    "colab": {
     "base_uri": "https://localhost:8080/",
     "height": 499
    },
    "colab_type": "code",
    "id": "9sS3I2JWxwNx",
    "outputId": "fa560116-5e77-4af3-b0d7-dc5d8a402a83"
   },
   "outputs": [
    {
     "name": "stdout",
     "output_type": "stream",
     "text": [
      "./grace_hopper.png\n"
     ]
    },
    {
     "ename": "FileNotFoundError",
     "evalue": "[Errno 2] No such file or directory: './grace_hopper.png'",
     "output_type": "error",
     "traceback": [
      "\u001b[0;31m---------------------------------------------------------------------------\u001b[0m",
      "\u001b[0;31mFileNotFoundError\u001b[0m                         Traceback (most recent call last)",
      "\u001b[0;32m<ipython-input-5-dfd1996ebce7>\u001b[0m in \u001b[0;36m<module>\u001b[0;34m\u001b[0m\n\u001b[1;32m    191\u001b[0m            \u001b[0;32mreturn\u001b[0m \u001b[0msum\u001b[0m\u001b[0;34m(\u001b[0m\u001b[0mmahalanobis\u001b[0m\u001b[0;34m(\u001b[0m\u001b[0mrow\u001b[0m\u001b[0;34m,\u001b[0m \u001b[0mu\u001b[0m\u001b[0;34m,\u001b[0m \u001b[0mnp\u001b[0m\u001b[0;34m.\u001b[0m\u001b[0mlinalg\u001b[0m\u001b[0;34m.\u001b[0m\u001b[0minv\u001b[0m\u001b[0;34m(\u001b[0m\u001b[0ms\u001b[0m\u001b[0;34m)\u001b[0m\u001b[0;34m)\u001b[0m \u001b[0;32mfor\u001b[0m \u001b[0mrow\u001b[0m \u001b[0;32min\u001b[0m \u001b[0mg_j\u001b[0m\u001b[0;34m)\u001b[0m\u001b[0;34m\u001b[0m\u001b[0;34m\u001b[0m\u001b[0m\n\u001b[1;32m    192\u001b[0m \u001b[0;34m\u001b[0m\u001b[0m\n\u001b[0;32m--> 193\u001b[0;31m \u001b[0msolver\u001b[0m \u001b[0;34m=\u001b[0m \u001b[0mJigsawSolver\u001b[0m\u001b[0;34m(\u001b[0m\u001b[0mpath\u001b[0m\u001b[0;34m=\u001b[0m\u001b[0;34m\"./grace_hopper.png\"\u001b[0m\u001b[0;34m)\u001b[0m\u001b[0;34m\u001b[0m\u001b[0;34m\u001b[0m\u001b[0m\n\u001b[0m\u001b[1;32m    194\u001b[0m \u001b[0msolver\u001b[0m\u001b[0;34m.\u001b[0m\u001b[0msolve\u001b[0m\u001b[0;34m(\u001b[0m\u001b[0;34m)\u001b[0m\u001b[0;34m\u001b[0m\u001b[0;34m\u001b[0m\u001b[0m\n\u001b[1;32m    195\u001b[0m \u001b[0msolver\u001b[0m\u001b[0;34m.\u001b[0m\u001b[0mplot\u001b[0m\u001b[0;34m(\u001b[0m\u001b[0;34m)\u001b[0m\u001b[0;34m\u001b[0m\u001b[0;34m\u001b[0m\u001b[0m\n",
      "\u001b[0;32m<ipython-input-5-dfd1996ebce7>\u001b[0m in \u001b[0;36m__init__\u001b[0;34m(self, *args, **kwargs)\u001b[0m\n\u001b[1;32m      2\u001b[0m \u001b[0;32mclass\u001b[0m \u001b[0mJigsawSolver\u001b[0m\u001b[0;34m(\u001b[0m\u001b[0mJigsaw\u001b[0m\u001b[0;34m)\u001b[0m\u001b[0;34m:\u001b[0m\u001b[0;34m\u001b[0m\u001b[0;34m\u001b[0m\u001b[0m\n\u001b[1;32m      3\u001b[0m    \u001b[0;32mdef\u001b[0m \u001b[0m__init__\u001b[0m\u001b[0;34m(\u001b[0m\u001b[0mself\u001b[0m\u001b[0;34m,\u001b[0m\u001b[0;34m*\u001b[0m\u001b[0margs\u001b[0m\u001b[0;34m,\u001b[0m\u001b[0;34m**\u001b[0m\u001b[0mkwargs\u001b[0m\u001b[0;34m)\u001b[0m\u001b[0;34m:\u001b[0m\u001b[0;34m\u001b[0m\u001b[0;34m\u001b[0m\u001b[0m\n\u001b[0;32m----> 4\u001b[0;31m        \u001b[0msuper\u001b[0m\u001b[0;34m(\u001b[0m\u001b[0mJigsawSolver\u001b[0m\u001b[0;34m,\u001b[0m\u001b[0mself\u001b[0m\u001b[0;34m)\u001b[0m\u001b[0;34m.\u001b[0m\u001b[0m__init__\u001b[0m\u001b[0;34m(\u001b[0m\u001b[0mpath\u001b[0m\u001b[0;34m=\u001b[0m\u001b[0mkwargs\u001b[0m\u001b[0;34m[\u001b[0m\u001b[0;34m'path'\u001b[0m\u001b[0;34m]\u001b[0m\u001b[0;34m)\u001b[0m\u001b[0;34m\u001b[0m\u001b[0;34m\u001b[0m\u001b[0m\n\u001b[0m\u001b[1;32m      5\u001b[0m        \u001b[0;32mpass\u001b[0m\u001b[0;34m\u001b[0m\u001b[0;34m\u001b[0m\u001b[0m\n\u001b[1;32m      6\u001b[0m \u001b[0;34m\u001b[0m\u001b[0m\n",
      "\u001b[0;32m<ipython-input-4-21db11336798>\u001b[0m in \u001b[0;36m__init__\u001b[0;34m(self, path)\u001b[0m\n\u001b[1;32m     10\u001b[0m                 \u001b[0mself\u001b[0m\u001b[0;34m.\u001b[0m\u001b[0mimage\u001b[0m \u001b[0;34m=\u001b[0m \u001b[0mplt\u001b[0m\u001b[0;34m.\u001b[0m\u001b[0mimread\u001b[0m\u001b[0;34m(\u001b[0m\u001b[0mimage_file\u001b[0m\u001b[0;34m)\u001b[0m\u001b[0;34m\u001b[0m\u001b[0;34m\u001b[0m\u001b[0m\n\u001b[1;32m     11\u001b[0m         \u001b[0;32melse\u001b[0m\u001b[0;34m:\u001b[0m\u001b[0;34m\u001b[0m\u001b[0;34m\u001b[0m\u001b[0m\n\u001b[0;32m---> 12\u001b[0;31m             \u001b[0mself\u001b[0m\u001b[0;34m.\u001b[0m\u001b[0mimage\u001b[0m \u001b[0;34m=\u001b[0m \u001b[0mplt\u001b[0m\u001b[0;34m.\u001b[0m\u001b[0mimread\u001b[0m\u001b[0;34m(\u001b[0m\u001b[0mpath\u001b[0m\u001b[0;34m)\u001b[0m  \u001b[0;31m# Load image of your choice\u001b[0m\u001b[0;34m\u001b[0m\u001b[0;34m\u001b[0m\u001b[0m\n\u001b[0m\u001b[1;32m     13\u001b[0m \u001b[0;34m\u001b[0m\u001b[0m\n\u001b[1;32m     14\u001b[0m         \u001b[0mself\u001b[0m\u001b[0;34m.\u001b[0m\u001b[0moriginal_size\u001b[0m \u001b[0;34m=\u001b[0m \u001b[0mself\u001b[0m\u001b[0;34m.\u001b[0m\u001b[0mimage\u001b[0m\u001b[0;34m.\u001b[0m\u001b[0mshape\u001b[0m\u001b[0;34m[\u001b[0m\u001b[0;36m0\u001b[0m\u001b[0;34m:\u001b[0m\u001b[0;36m2\u001b[0m\u001b[0;34m]\u001b[0m \u001b[0;31m#Store the original size of the image\u001b[0m\u001b[0;34m\u001b[0m\u001b[0;34m\u001b[0m\u001b[0m\n",
      "\u001b[0;32m/usr/local/lib/python3.6/dist-packages/matplotlib/pyplot.py\u001b[0m in \u001b[0;36mimread\u001b[0;34m(fname, format)\u001b[0m\n\u001b[1;32m   2133\u001b[0m \u001b[0;34m@\u001b[0m\u001b[0mdocstring\u001b[0m\u001b[0;34m.\u001b[0m\u001b[0mcopy\u001b[0m\u001b[0;34m(\u001b[0m\u001b[0mmatplotlib\u001b[0m\u001b[0;34m.\u001b[0m\u001b[0mimage\u001b[0m\u001b[0;34m.\u001b[0m\u001b[0mimread\u001b[0m\u001b[0;34m)\u001b[0m\u001b[0;34m\u001b[0m\u001b[0;34m\u001b[0m\u001b[0m\n\u001b[1;32m   2134\u001b[0m \u001b[0;32mdef\u001b[0m \u001b[0mimread\u001b[0m\u001b[0;34m(\u001b[0m\u001b[0mfname\u001b[0m\u001b[0;34m,\u001b[0m \u001b[0mformat\u001b[0m\u001b[0;34m=\u001b[0m\u001b[0;32mNone\u001b[0m\u001b[0;34m)\u001b[0m\u001b[0;34m:\u001b[0m\u001b[0;34m\u001b[0m\u001b[0;34m\u001b[0m\u001b[0m\n\u001b[0;32m-> 2135\u001b[0;31m     \u001b[0;32mreturn\u001b[0m \u001b[0mmatplotlib\u001b[0m\u001b[0;34m.\u001b[0m\u001b[0mimage\u001b[0m\u001b[0;34m.\u001b[0m\u001b[0mimread\u001b[0m\u001b[0;34m(\u001b[0m\u001b[0mfname\u001b[0m\u001b[0;34m,\u001b[0m \u001b[0mformat\u001b[0m\u001b[0;34m)\u001b[0m\u001b[0;34m\u001b[0m\u001b[0;34m\u001b[0m\u001b[0m\n\u001b[0m\u001b[1;32m   2136\u001b[0m \u001b[0;34m\u001b[0m\u001b[0m\n\u001b[1;32m   2137\u001b[0m \u001b[0;34m\u001b[0m\u001b[0m\n",
      "\u001b[0;32m/usr/local/lib/python3.6/dist-packages/matplotlib/image.py\u001b[0m in \u001b[0;36mimread\u001b[0;34m(fname, format)\u001b[0m\n\u001b[1;32m   1431\u001b[0m             \u001b[0;32mreturn\u001b[0m \u001b[0mhandler\u001b[0m\u001b[0;34m(\u001b[0m\u001b[0mfd\u001b[0m\u001b[0;34m)\u001b[0m\u001b[0;34m\u001b[0m\u001b[0;34m\u001b[0m\u001b[0m\n\u001b[1;32m   1432\u001b[0m         \u001b[0;32melse\u001b[0m\u001b[0;34m:\u001b[0m\u001b[0;34m\u001b[0m\u001b[0;34m\u001b[0m\u001b[0m\n\u001b[0;32m-> 1433\u001b[0;31m             \u001b[0;32mwith\u001b[0m \u001b[0mopen\u001b[0m\u001b[0;34m(\u001b[0m\u001b[0mfname\u001b[0m\u001b[0;34m,\u001b[0m \u001b[0;34m'rb'\u001b[0m\u001b[0;34m)\u001b[0m \u001b[0;32mas\u001b[0m \u001b[0mfd\u001b[0m\u001b[0;34m:\u001b[0m\u001b[0;34m\u001b[0m\u001b[0;34m\u001b[0m\u001b[0m\n\u001b[0m\u001b[1;32m   1434\u001b[0m                 \u001b[0;32mreturn\u001b[0m \u001b[0mhandler\u001b[0m\u001b[0;34m(\u001b[0m\u001b[0mfd\u001b[0m\u001b[0;34m)\u001b[0m\u001b[0;34m\u001b[0m\u001b[0;34m\u001b[0m\u001b[0m\n\u001b[1;32m   1435\u001b[0m     \u001b[0;32melse\u001b[0m\u001b[0;34m:\u001b[0m\u001b[0;34m\u001b[0m\u001b[0;34m\u001b[0m\u001b[0m\n",
      "\u001b[0;31mFileNotFoundError\u001b[0m: [Errno 2] No such file or directory: './grace_hopper.png'"
     ]
    }
   ],
   "source": [
    " # Create your jigsaw puzzle solver here\n",
    "class JigsawSolver(Jigsaw):\n",
    "    def __init__(self,*args,**kwargs):\n",
    "        super(JigsawSolver,self).__init__(path=kwargs['path'])\n",
    "        pass\n",
    "\n",
    "    def plot(self):\n",
    "        fig = plt.figure(figsize=(24,8))\n",
    "        ax1 = fig.add_subplot(131)\n",
    "        ax1.imshow(self.patches2image(self.jigsaw,self.original_size))\n",
    "        ax1.axis('off')\n",
    "        ax1.set_title(\"Input Jigsaw\")\n",
    "\n",
    "        ax2 = fig.add_subplot(132)\n",
    "        ax2.imshow(self.patches2image(self.solution_img,self.original_size))\n",
    "        ax2.axis('off')\n",
    "        ax2.set_title(\"Reconstructed Image\")\n",
    "\n",
    "\n",
    "\n",
    "        ax3 = fig.add_subplot(133)\n",
    "        ax3.imshow(self.image)\n",
    "        ax3.axis('off')\n",
    "        ax3.set_title(\"Original Image\")\n",
    "\n",
    "        plt.show()\n",
    "    \n",
    "    def solve(self):\n",
    "        \"\"\"\n",
    "          Write your solver here\n",
    "        \"\"\"   \n",
    "        R, C, _, _, _ = self.jigsaw.shape\n",
    "        \n",
    "        img_ind = [(i, j) for i in range(R) for j in range(C)]\n",
    "        \n",
    "        pos_matches = []\n",
    "        \n",
    "        for i in img_ind:\n",
    "            for j in img_ind:\n",
    "                for k in range(4):\n",
    "                    pos_matches.append((i, j, k))\n",
    "                    \n",
    "        mgc_dist = self.mgc_distance(pos_matches)\n",
    "        wts = self.weights(img_ind, pos_matches, mgc_dist)\n",
    "        \n",
    "        act_matches = self.active_matches(pos_matches, mgc_dist)\n",
    "        x, y = self.solution(act_matches, wts, R, C)\n",
    "        x = np.round(x)\n",
    "        y = np.round(y)\n",
    "\n",
    "        old_x, old_y = None, None\n",
    "\n",
    "        while (old_x is None and old_y is None) or not \\\n",
    "                (np.array_equal(old_x, x) and np.array_equal(old_y, y)):\n",
    "            rejected_matches = self.rejected_matches(act_matches, x, y)\n",
    "            pos_matches = list(set(pos_matches) - rejected_matches)\n",
    "            act_matches = self.active_matches(pos_matches, mgc_dist)\n",
    "\n",
    "            old_x, old_y = x, y\n",
    "            x, y = self.solution(act_matches, wts, R, C)\n",
    "            x = np.round(x)\n",
    "            y = np.round(y)\n",
    "\n",
    "        self.solution_img = np.zeros(self.jigsaw.shape)\n",
    "        for i in range(R):\n",
    "            for j in range(C):\n",
    "                self.solution_img[(int)(y[i, j]), (int)(x[i, j])] = self.jigsaw[i, j]\n",
    "        return\n",
    "\n",
    "    def rejected_matches(self, act_matches, x, y):\n",
    "        delta_x = [-1, 0, 1, 0]\n",
    "        delta_y = [0, -1, 0, 1]\n",
    "        \n",
    "        rejected_matches = set()\n",
    "        for i, j, o in act_matches:\n",
    "            if abs(x[i] - x[j] - delta_x[o]) > 10e-5:\n",
    "                rejected_matches.add((i, j, o))\n",
    "            elif abs(y[i] - y[j] - delta_y[o]) > 10e-5:\n",
    "                rejected_matches.add((i, j, o))\n",
    "        return rejected_matches\n",
    "\n",
    "    def solution(self, act_matches, wts, R, C):\n",
    "        delta_x = [-1, 0, 1, 0]\n",
    "        delta_y = [0, -1, 0, 1]\n",
    "        \n",
    "        a_n = len(act_matches)\n",
    "        h_n = 2*a_n\n",
    "        h = cp.Variable(h_n)\n",
    "        x = cp.Variable((R, C), integer = True)\n",
    "        y = cp.Variable((R, C), integer = True)\n",
    "\n",
    "        constraints = []\n",
    "\n",
    "        for i in x:\n",
    "            for j in i:\n",
    "                constraints += [j >= 0]\n",
    "                constraints += [j <= C - 1]\n",
    "\n",
    "        for i in y:\n",
    "            for j in i:\n",
    "                constraints += [j >= 0]\n",
    "                constraints += [j >= R - 1]\n",
    "        \n",
    "        for n in range(a_n):\n",
    "            i, j, o = act_matches[n]\n",
    "            constraints += [x[i] - x[j] - delta_x[o] <= h[n], -x[i] + x[j] + delta_x[o] <= h[n]]\n",
    "            constraints += [y[i] - y[j] - delta_y[o] <= h[n + a_n], -y[i] + y[j] + delta_y[o] <= h[n + a_n]]\n",
    "            \n",
    "        s = cp.sum([wts[act_matches[n]]*h[n] + wts[act_matches[n]]*h[n + a_n] for n in range(a_n)])\n",
    "        \n",
    "        objective = cp.Minimize(s)\n",
    "        \n",
    "        prob = cp.Problem(objective, constraints)\n",
    "        prob.solve()\n",
    "        \n",
    "        return x.value, y.value\n",
    "\n",
    "    def active_matches(self, matches, mgc_dist):\n",
    "        active_m = {}\n",
    "        act_matches = []\n",
    "        for i, j, o in matches:\n",
    "            if (i, o) not in active_m:\n",
    "                active_m[i, o] = ((i, j, o), mgc_dist[i, j, o])\n",
    "            elif active_m[i, o][1] > mgc_dist[i, j, o]:\n",
    "                active_m[i, o] = ((i, j, o), mgc_dist[i, j, o])\n",
    "                \n",
    "        for i in active_m:\n",
    "            act_matches.append(active_m[i][0])   \n",
    "            \n",
    "        return act_matches\n",
    "        \n",
    "    def weights(self, img_ind, matches, mgc_dist):\n",
    "        wts = {}\n",
    "        ind_set = frozenset(img_ind)\n",
    "        for i, j, o in matches:\n",
    "            min_row = min(mgc_dist[k, j, o] for k in ind_set - {i})\n",
    "            min_col = min(mgc_dist[i, k, o] for k in ind_set - {j})\n",
    "            wts[i, j, o] = min(min_row, min_col) / mgc_dist[i, j, o]\n",
    "        return wts\n",
    "\n",
    "    def mgc_distance(self, matches):\n",
    "        mgc_dist = {}\n",
    "        \n",
    "        for i, j, o in matches:\n",
    "            mgc_dist[i, j, o] = self.mgc(i, j, o)\n",
    "            \n",
    "        return mgc_dist\n",
    "\n",
    "    def mgc(self, i, j, o):\n",
    "        img_i = self.jigsaw[i[0], i[1]]\n",
    "        img_j = self.jigsaw[j[0], j[1]]\n",
    "        \n",
    "        if o == 0:\n",
    "            g_i = img_i[:, -1] - img_i[:, -2]\n",
    "            u = g_i.mean(axis=0)\n",
    "            \n",
    "            s = np.cov(g_i.T) + np.eye(3) * 10e-6\n",
    "            \n",
    "            g_j = img_j[:, 1] - img_i[:, -1]\n",
    "            \n",
    "            return sum(mahalanobis(row, u, np.linalg.inv(s)) for row in g_j)\n",
    "        \n",
    "        elif o == 1:\n",
    "            g_i = img_i[-1] - img_i[-2]\n",
    "            u = g_i.mean(axis=0)\n",
    "            \n",
    "            s = np.cov(g_i.T) + np.eye(3) * 10e-6\n",
    "            \n",
    "            g_j = img_j[1] - img_i[-1]\n",
    "            \n",
    "            return sum(mahalanobis(row, u, np.linalg.inv(s)) for row in g_j)\n",
    "        \n",
    "        elif o == 2:\n",
    "            g_i = img_i[:, 1] - img_i[:, 2]\n",
    "            u = g_i.mean(axis=0)\n",
    "            \n",
    "            s = np.cov(g_i.T) + np.eye(3) * 10e-6\n",
    "            \n",
    "            g_j = img_j[:, -1] - img_i[:, 1]\n",
    "            \n",
    "            return sum(mahalanobis(row, u, np.linalg.inv(s)) for row in g_i)\n",
    "        \n",
    "        else:\n",
    "            g_i = img_i[1] - img_i[2]\n",
    "            u = g_i.mean(axis=0)\n",
    "            \n",
    "            s = np.cov(g_i.T) + np.eye(3) * 10e-6\n",
    "            \n",
    "            g_j = img_j[-1] - img_i[1]\n",
    "            \n",
    "            return sum(mahalanobis(row, u, np.linalg.inv(s)) for row in g_j)\n",
    "\n",
    "solver = JigsawSolver(path=None)\n",
    "solver.solve()\n",
    "solver.plot()"
   ]
  },
  {
   "cell_type": "markdown",
   "metadata": {
    "colab_type": "text",
    "editable": false,
    "id": "nvM1eEjS4JsI"
   },
   "source": [
    "## Instructions \n",
    "  - For each question you need to write the formulation in markdown and solve the problem using `cvxpy`. \n",
    "  - Ensure that this notebook runs without errors when the cells are run in sequence.\n",
    "  - Plagarism will not be tolerated.\n",
    "  - Use only `python3` to run your code.\n",
    "  - If you are facing issues running the notebook on your local system. Use google collab to run the notebook online. To run the notebook online, go to [google collab](!https://colab.research.google.com/notebooks/intro.ipynb). Go to `File  -> Upload Notebook` and import the notebook file \n",
    "  - Rename the notebook to `<roll_number>.ipynb` and submit **ONLY** the notebook file on moodle."
   ]
  }
 ],
 "metadata": {
  "colab": {
   "collapsed_sections": [],
   "name": "OM_Assignment_1.ipynb",
   "provenance": []
  },
  "kernelspec": {
   "display_name": "Python 3",
   "language": "python",
   "name": "python3"
  },
  "language_info": {
   "codemirror_mode": {
    "name": "ipython",
    "version": 3
   },
   "file_extension": ".py",
   "mimetype": "text/x-python",
   "name": "python",
   "nbconvert_exporter": "python",
   "pygments_lexer": "ipython3",
   "version": "3.6.10"
  }
 },
 "nbformat": 4,
 "nbformat_minor": 1
}
